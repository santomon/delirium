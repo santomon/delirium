{
  "nbformat": 4,
  "nbformat_minor": 0,
  "metadata": {
    "colab": {
      "name": "Delirium.ipynb",
      "provenance": [],
      "collapsed_sections": [],
      "machine_shape": "hm"
    },
    "kernelspec": {
      "display_name": "Python 3",
      "name": "python3"
    },
    "accelerator": "GPU"
  },
  "cells": [
    {
      "cell_type": "code",
      "metadata": {
        "id": "PTTMU6kWMXoy"
      },
      "source": [
        "from google.colab import drive\n",
        "drive.mount(\"/content/gdrive\", force_remount=True)"
      ],
      "execution_count": null,
      "outputs": []
    },
    {
      "cell_type": "code",
      "metadata": {
        "id": "_rbbl2-0IZ-Z"
      },
      "source": [
        "# restart runtime after install d2; dont mind the red\n",
        "!pip install pyyaml==5.1\n",
        "!python -m pip install 'git+https://github.com/facebookresearch/detectron2.git'"
      ],
      "execution_count": null,
      "outputs": []
    },
    {
      "cell_type": "code",
      "metadata": {
        "id": "zaW2Vj5_JZUi"
      },
      "source": [
        "!git clone https://github.com/santomon/delirium\n",
        "%cd /content/delirium\n",
        "!git checkout permutation\n",
        "!git clone https://github.com/santomon/NeuralTaskonomy"
      ],
      "execution_count": null,
      "outputs": []
    },
    {
      "cell_type": "code",
      "metadata": {
        "id": "mC5km0JpJpVJ"
      },
      "source": [
        "import delirium\n",
        "delirium.get_BOLD5K_Stimuli(\"/content\")\n",
        "delirium.get_BOLD5K_ROI_data(\"/content\")"
      ],
      "execution_count": null,
      "outputs": []
    },
    {
      "cell_type": "code",
      "metadata": {
        "id": "b75GF-RSLWna"
      },
      "source": [
        "!python inference/inference.py --module detectron_inference --model COCO-InstanceSegmentation/mask_rcnn_R_50_FPN_3x.yaml --layer p5\n",
        "!python inference/inference.py --module detectron_inference --model COCO-InstanceSegmentation/mask_rcnn_R_50_FPN_1x.yaml --layer p5\n",
        "!python main.py --module detectron_inference --model COCO-InstanceSegmentation/mask_rcnn_R_50_FPN_3x.yaml --do_pca 2048 --fix_testing --data_path /content/output --save_path /content/gdrive/MyDrive/results3\n",
        "!python main.py --module detectron_inference --model COCO-InstanceSegmentation/mask_rcnn_R_50_FPN_1x.yaml --do_pca 2048 --fix_testing --data_path /content/output --save_path /content/gdrive/MyDrive/results3"
      ],
      "execution_count": null,
      "outputs": []
    },
    {
      "cell_type": "code",
      "metadata": {
        "id": "znf1txZdkx3Q"
      },
      "source": [
        "!python inference/inference.py --module torch_inference --model deeplabv3_resnet50\n",
        "!python main.py --module torch_inference --model deeplabv3_resnet50 --do_pca 2048 --fix_testing --data_path /content/output --save_path /content/gdrive/MyDrive/results3"
      ],
      "execution_count": null,
      "outputs": []
    },
    {
      "cell_type": "code",
      "metadata": {
        "id": "D5JkApb1lxyZ"
      },
      "source": [
        "!python inference/inference.py --module torch_inference --model fcn_resnet50\n",
        "!python main.py --module torch_inference --model fcn_resnet50 --do_pca 2048 --fix_testing --data_path /content/output --save_path /content/gdrive/MyDrive/results3"
      ],
      "execution_count": null,
      "outputs": []
    },
    {
      "cell_type": "code",
      "metadata": {
        "id": "Lpq206tF--5w"
      },
      "source": [
        "#use cpu\n",
        "!python inference/inference.py --module torch_inference --model deeplabv3_resnet50\n",
        "!python main.py --module torch_inference --model deeplabv3_resnet50 --fix_testing --data_path /content/output --save_path /content/gdrive/MyDrive/results3"
      ],
      "execution_count": null,
      "outputs": []
    },
    {
      "cell_type": "code",
      "metadata": {
        "id": "N7wZ6J6GITd9"
      },
      "source": [
        "taskonomy_path = \"/content/output/taskonomy_inference\"\n",
        "!mkdir -p $taskonomy_path\n",
        "!unzip /content/gdrive/MyDrive/output2/taskonomy_inference/segmentsemantic_encoder_output.zip -d $taskonomy_path\n",
        "!unzip /content/gdrive/MyDrive/output2/taskonomy_inference/edge2d_encoder_output.zip -d $taskonomy_path\n",
        "!unzip /content/gdrive/MyDrive/output2/taskonomy_inference/rgb2sfnorm_encoder_output.zip -d $taskonomy_path"
      ],
      "execution_count": null,
      "outputs": []
    },
    {
      "cell_type": "code",
      "metadata": {
        "id": "lH4USbw2Iysr"
      },
      "source": [
        "!python main.py --module taskonomy_inference --model edge2d --fix_testing --data_path /content/output --save_path /content/gdrive/MyDrive/results3\n",
        "!python main.py --module taskonomy_inference --model segmentsemantic --fix_testing --data_path /content/output --save_path /content/gdrive/MyDrive/results3\n",
        "!python main.py --module taskonomy_inference --model rgb2sfnorm --fix_testing --data_path /content/output --save_path /content/gdrive/MyDrive/results3"
      ],
      "execution_count": null,
      "outputs": []
    },
    {
      "cell_type": "code",
      "metadata": {
        "id": "v5IXKROsXBNj"
      },
      "source": [
        "!python main.py --module taskonomy_inference --model edge2d --fix_testing --data_path /content/output --save_path /content/gdrive/MyDrive/results3 --do_pca 2048\n",
        "!python main.py --module taskonomy_inference --model segmentsemantic --fix_testing --data_path /content/output --save_path /content/gdrive/MyDrive/results3 --do_pca 2048\n",
        "!python main.py --module taskonomy_inference --model rgb2sfnorm --fix_testing --data_path /content/output --save_path /content/gdrive/MyDrive/results3 --do_pca 2048"
      ],
      "execution_count": null,
      "outputs": []
    }
  ]
}