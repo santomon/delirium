{
  "nbformat": 4,
  "nbformat_minor": 0,
  "metadata": {
    "colab": {
      "name": "permutation_test.ipynb",
      "provenance": [],
      "toc_visible": true
    },
    "kernelspec": {
      "name": "python3",
      "display_name": "Python 3"
    }
  },
  "cells": [
    {
      "cell_type": "code",
      "metadata": {
        "colab": {
          "base_uri": "https://localhost:8080/"
        },
        "id": "39BP48tvC8io",
        "outputId": "275d91de-6fb2-4d39-d5e7-a6d8cea7ee57"
      },
      "source": [
        "from google.colab import drive\n",
        "drive.mount(\"/content/gdrive\", force_remount=True)"
      ],
      "execution_count": 1,
      "outputs": [
        {
          "output_type": "stream",
          "text": [
            "Mounted at /content/gdrive\n"
          ],
          "name": "stdout"
        }
      ]
    },
    {
      "cell_type": "code",
      "metadata": {
        "id": "ltUX6pajDdKr"
      },
      "source": [
        "!apt-get update\n",
        "!apt-get install texlive\n",
        "!pip install statsmodels\n",
        "!git clone https://github.com/santomon/delirium\n",
        "%cd delirium\n",
        "!git checkout permutation\n",
        "!git clone https://github.com/santomon/NeuralTaskonomy"
      ],
      "execution_count": null,
      "outputs": []
    },
    {
      "cell_type": "markdown",
      "metadata": {
        "id": "WqWPWkE-QS2O"
      },
      "source": [
        "## real deal"
      ]
    },
    {
      "cell_type": "code",
      "metadata": {
        "id": "68DU86sIMG8C"
      },
      "source": [
        "import importlib\n",
        "import permutation as perm\n",
        "importlib.reload(perm)\n",
        "\n",
        "save_dir = \"/content/gdrive/MyDrive/results3\"\n",
        "\n",
        "permutator = perm.Permutator()\n",
        "permutator.load_predictions(\"taskonomy_inference\", \"edge2d\", False, True, False, [3, 4], save_dir)\n",
        "permutator.load_predictions(\"taskonomy_inference\", \"segmentsemantic\", False, True, False, [3, 4], save_dir)\n",
        "permutator.load_predictions(\"taskonomy_inference\", \"rgb2sfnorm\", False, True, False, [3, 4], save_dir)\n",
        "\n",
        "\n",
        "# permutator.load_predictions(\"torch_inference\", \"deeplabv3_resnet50\", False, True, False, [3, 4], save_dir)\n",
        "permutator.load_predictions(\"torch_inference\", \"deeplabv3_resnet50\", True, True, False, [3, 4], save_dir)\n",
        "\n",
        "permutator.load_predictions(\"torch_inference\", \"fcn_resnet50\", True, True, False, [3, 4], save_dir)\n",
        "\n",
        "permutator.load_predictions(\"detectron_inference\", \"COCO-InstanceSegmentation/mask_rcnn_R_50_FPN_1x.yaml\", True, True, False, [3, 4], save_dir)\n",
        "permutator.load_predictions(\"detectron_inference\", \"COCO-InstanceSegmentation/mask_rcnn_R_50_FPN_3x.yaml\", True, True, False, [3, 4], save_dir)\n",
        "\n",
        "###\n",
        "\n",
        "permutator.load_predictions(\"astmt_inference\", \"imagenet_pretr\", True, True, False, [3, 4], save_dir)\n",
        "permutator.load_predictions(\"astmt_inference\", \"nyud_edge_imagenet_SSF\", True, True, False, [3, 4], save_dir, \"edge\")\n",
        "permutator.load_predictions(\"astmt_inference\", \"nyud_edge_scratch_SSF\", True, True, False, [3, 4], save_dir, \"edge\")\n",
        "\n",
        "permutator.load_predictions(\"astmt_inference\", \"nyud_semseg_imagenet_SSF\", True, True, False, [3, 4], save_dir, \"semseg\")\n",
        "permutator.load_predictions(\"astmt_inference\", \"nyud_semseg_scratch_SSF\", True, True, False, [3, 4], save_dir, \"semseg\")\n",
        "\n",
        "permutator.load_predictions(\"astmt_inference\", \"nyud_normals_imagenet_SSF\", True, True, False, [3, 4], save_dir, \"normals\")\n",
        "permutator.load_predictions(\"astmt_inference\", \"nyud_normals_scratch_SSF\", True, True, False, [3, 4], save_dir, \"normals\")\n",
        "\n",
        "##\n",
        "\n",
        "permutator.load_predictions(\"astmt_inference\", \"imagenet_pretr\", True, True, False, [3, 4], save_dir)\n",
        "permutator.load_predictions(\"astmt_inference\", \"pascal_edge_imagenet_SSF\", True, True, False, [3, 4], save_dir, \"edge\")\n",
        "permutator.load_predictions(\"astmt_inference\", \"pascal_edge_scratch_SSF\", True, True, False, [3, 4], save_dir, \"edge\")\n",
        "\n",
        "permutator.load_predictions(\"astmt_inference\", \"pascal_semseg_imagenet_SSF\", True, True, False, [3, 4], save_dir, \"semseg\")\n",
        "permutator.load_predictions(\"astmt_inference\", \"pascal_semseg_scratch_SSF\", True, True, False, [3, 4], save_dir, \"semseg\")\n",
        "\n",
        "permutator.load_predictions(\"astmt_inference\", \"pascal_normals_imagenet_SSF\", True, True, False, [3, 4], save_dir, \"normals\")\n",
        "permutator.load_predictions(\"astmt_inference\", \"pascal_normals_scratch_SSF\", True, True, False, [3, 4], save_dir, \"normals\")\n",
        "\n",
        "permutator.permute(save_dir_root=\"/content/results3\")"
      ],
      "execution_count": null,
      "outputs": []
    },
    {
      "cell_type": "markdown",
      "metadata": {
        "id": "dKR_1uw8wpLG"
      },
      "source": [
        "## to be integrated into delirium\n",
        "## prototype"
      ]
    },
    {
      "cell_type": "code",
      "metadata": {
        "id": "FalNvsgyj6aK"
      },
      "source": [
        "%cd /content/delirium\n",
        "import importlib\n",
        "import permutation as perm\n",
        "importlib.reload(perm)\n",
        "\n",
        "labels = [\"taskonomy rgb2sfnorm\", \"ASTMT pretrained only\", \"ASTMT, NYUD, scratch\",\n",
        "          \"ASTMT, NYUD, pretrained\", \"ASTMT, PASCAL, scratch\", \"ASTMT, PASCAL, pretrained\"]\n",
        "labels2 = [1, 2, 3, 4, 5, 6]\n",
        "\n",
        "ptator = perm.Permutator()\n",
        "ptator.load_permutations_and_pvalues(\"taskonomy_inference\", \"rgb2sfnorm\", False, True, False, [3, 4], \"rgb2sfnorm\", \"/content/gdrive/MyDrive/results3\")\n",
        "ptator.load_permutations_and_pvalues(\"astmt_inference\", \"imagenet_pretr\", True, True, False, [3, 4], \"rgb2sfnorm\", \"/content/gdrive/MyDrive/results3\")\n",
        "\n",
        "ptator.load_permutations_and_pvalues(\"astmt_inference\", \"nyud_normals_scratch_SSF\", True, True, False, [3, 4],\"rgb2sfnorm\", \"/content/gdrive/MyDrive/results3\", \"normals\")\n",
        "ptator.load_permutations_and_pvalues(\"astmt_inference\", \"nyud_normals_imagenet_SSF\", True, True, False, [3, 4],\"rgb2sfnorm\", \"/content/gdrive/MyDrive/results3\", \"normals\")\n",
        "\n",
        "ptator.load_permutations_and_pvalues(\"astmt_inference\", \"pascal_normals_scratch_SSF\", True, True, False, [3, 4],\"rgb2sfnorm\", \"/content/gdrive/MyDrive/results3\", \"normals\")\n",
        "ptator.load_permutations_and_pvalues(\"astmt_inference\", \"pascal_normals_imagenet_SSF\", True, True, False, [3, 4],\"rgb2sfnorm\", \"/content/gdrive/MyDrive/results3\", \"normals\")\n",
        "\n",
        "ptator.permutation_roiwise_two_stat_p(save_name=\"permutation_ps_rgb2sfnorm.p\", save_dir=\"/content/gdrive/MyDrive/results3\")\n",
        "ptator.plot_two_stat_ps(plot_alpha=0.05, figname=\"/content/perm_pvalues_normals/perm_pvalues_normals.pgf\", tick_labels=labels2, backend=\"pgf\", horizontal_yticks=True)\n",
        "\n",
        "%cd /content\n",
        "!rm /content/perm_pvalues_normals.zip\n",
        "!zip /content/perm_pvalues_normals.zip perm_pvalues_normals -r\n",
        "%cd /content/delirium"
      ],
      "execution_count": null,
      "outputs": []
    },
    {
      "cell_type": "code",
      "metadata": {
        "id": "20P9plU8hRnV"
      },
      "source": [
        "%cd /content/delirium\n",
        "import importlib\n",
        "import permutation as perm\n",
        "importlib.reload(perm)\n",
        "\n",
        "labels = [\"taskonomy edge2d\", \"ASTMT pretrained only\", \"ASTMT, NYUD, scratch\",\n",
        "          \"ASTMT, NYUD, pretrained\", \"ASTMT, PASCAL, scratch\", \"ASTMT, PASCAL, pretrained\"]\n",
        "labels2 = [1, 2, 3, 4, 5, 6]\n",
        "\n",
        "ptator = perm.Permutator()\n",
        "ptator.load_permutations_and_pvalues(\"taskonomy_inference\", \"edge2d\", False, True, False, [3, 4], \"/content/gdrive/MyDrive/results3\")\n",
        "ptator.load_permutations_and_pvalues(\"astmt_inference\", \"imagenet_pretr\", True, True, False, [3, 4], \"/content/gdrive/MyDrive/results3\")\n",
        "\n",
        "ptator.load_permutations_and_pvalues(\"astmt_inference\", \"nyud_edge_scratch_SSF\", True, True, False, [3, 4], \"/content/gdrive/MyDrive/results3\", \"edge\")\n",
        "ptator.load_permutations_and_pvalues(\"astmt_inference\", \"nyud_edge_imagenet_SSF\", True, True, False, [3, 4], \"/content/gdrive/MyDrive/results3\", \"edge\")\n",
        "\n",
        "ptator.load_permutations_and_pvalues(\"astmt_inference\", \"pascal_edge_scratch_SSF\", True, True, False, [3, 4], \"/content/gdrive/MyDrive/results3\", \"edge\")\n",
        "ptator.load_permutations_and_pvalues(\"astmt_inference\", \"pascal_edge_imagenet_SSF\", True, True, False, [3, 4], \"/content/gdrive/MyDrive/results3\", \"edge\")\n",
        "\n",
        "ptator.permutation_roiwise_two_stat_p(save_name=\"permutation_ps_edge2d.p\", save_dir=\"/content/gdrive/MyDrive/results3\")\n",
        "ptator.plot_two_stat_ps(plot_alpha=0.05, figname=\"/content/perm_pvalues_edge/perm_pvalues_edge.pgf\", tick_labels=labels2, backend=\"pgf\", horizontal_yticks=True)\n",
        "\n",
        "%cd /content\n",
        "!rm /content/perm_pvalues_edge.zip\n",
        "!zip /content/perm_pvalues_edge.zip perm_pvalues_edge -r\n",
        "%cd /content/delirium"
      ],
      "execution_count": null,
      "outputs": []
    },
    {
      "cell_type": "code",
      "metadata": {
        "id": "wdo6qPM2khGw"
      },
      "source": [
        "%cd /content/delirium\n",
        "import importlib\n",
        "import permutation as perm\n",
        "importlib.reload(perm)\n",
        "\n",
        "labels = [\"taskonomy segmentsemantic\", \"ASTMT pretrained only\", \"ASTMT, NYUD, scratch\",\n",
        "          \"ASTMT, NYUD, pretrained\", \"ASTMT, PASCAL, scratch\", \"ASTMT, PASCAL, pretrained\"]\n",
        "labels2 = [1, 2, 3, 4, 5, 6, 7, 8, 9]\n",
        "ptator = perm.Permutator()\n",
        "ptator.load_permutations_and_pvalues(\"taskonomy_inference\", \"segmentsemantic\", False, True, False, [3, 4], \"/content/gdrive/MyDrive/results3\")\n",
        "ptator.load_permutations_and_pvalues(\"astmt_inference\", \"imagenet_pretr\", True, True, False, [3, 4], \"/content/gdrive/MyDrive/results3\")\n",
        "\n",
        "ptator.load_permutations_and_pvalues(\"astmt_inference\", \"nyud_semseg_scratch_SSF\", True, True, False, [3, 4], \"/content/gdrive/MyDrive/results3\", \"semseg\")\n",
        "ptator.load_permutations_and_pvalues(\"astmt_inference\", \"nyud_semseg_imagenet_SSF\", True, True, False, [3, 4], \"/content/gdrive/MyDrive/results3\", \"semseg\")\n",
        "\n",
        "ptator.load_permutations_and_pvalues(\"astmt_inference\", \"pascal_semseg_scratch_SSF\", True, True, False, [3, 4], \"/content/gdrive/MyDrive/results3\", \"semseg\")\n",
        "ptator.load_permutations_and_pvalues(\"astmt_inference\", \"pascal_semseg_imagenet_SSF\", True, True, False, [3, 4], \"/content/gdrive/MyDrive/results3\", \"semseg\")\n",
        "\n",
        "ptator.load_permutations_and_pvalues(\"torch_inference\", \"fcn_resnet50\", True, True, False, [3, 4], \"/content/gdrive/MyDrive/results3\")\n",
        "ptator.load_permutations_and_pvalues(\"torch_inference\", \"deeplabv3_resnet50\", True, True, False, [3, 4], \"/content/gdrive/MyDrive/results3\")\n",
        "\n",
        "ptator.load_permutations_and_pvalues(\"detectron_inference\", \"COCO-InstanceSegmentation/mask_rcnn_R_50_FPN_1x.yaml\", True, True, False, [3, 4], \"/content/gdrive/MyDrive/results3\")\n",
        "\n",
        "\n",
        "ptator.permutation_roiwise_two_stat_p(save_name=\"permutation_ps_segmentsemantic.p\", save_dir=\"/content/gdrive/MyDrive/results3\")\n",
        "ptator.plot_two_stat_ps(plot_alpha=0.05, figname=\"/content/perm_pvalues_semseg/perm_pvalues_semseg.pgf\", tick_labels=labels2, backend=\"pgf\", horizontal_yticks=True)\n",
        "\n",
        "%cd /content\n",
        "!rm /content/perm_pvalues_semseg.zip\n",
        "!zip /content/perm_pvalues_semseg.zip perm_pvalues_semseg -r\n",
        "%cd /content/delirium"
      ],
      "execution_count": null,
      "outputs": []
    }
  ]
}